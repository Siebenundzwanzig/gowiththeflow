{
 "cells": [
  {
   "cell_type": "code",
   "execution_count": null,
   "metadata": {
    "collapsed": true
   },
   "outputs": [],
   "source": [
    "x = tf.placeholder(tf.float32, [None, 784])\n",
    "\n",
    "bias = tf.Variable(tf.zeros([10]))\n",
    "\n",
    "weights = tf.Variable(tf.random_normal([784, 10], stddev = 0.000002), dtype = tf.float32)\n",
    "\n",
    "labels_soft = tf.placeholder(tf.float32, [None, 10])\n",
    "y =tf.matmul(x, weights)+bias\n",
    "softmax = tf.nn.softmax_cross_entropy_with_logits(labels = labels_soft, \n",
    "                                                  logits = y)\n",
    "entropy_mean = tf.reduce_mean(softmax)\n",
    "\n",
    "train_step = tf.train.GradientDescentOptimizer(0.5).minimize(softmax)\n",
    "\n",
    "correct_prediction = tf.equal(tf.argmax(y, 1), tf.argmax(labels_soft, 1))\n",
    "        \n",
    "accuracy = tf.reduce_mean(tf.cast(correct_prediction, tf.float32))\n",
    "\n",
    "b_size = 500\n",
    "training_batch = mnist.get_training_batch(b_size)\n",
    "\n",
    "training_steps = 1000\n",
    "\n",
    "with tf.Session() as session: \n",
    "    session.run(tf.global_variables_initializer())\n",
    "    loss_arr = np.array([])\n",
    "    acc_arr = np.array([])\n",
    "    \n",
    "    \n",
    "    for _ in range(training_steps):\n",
    "        \n",
    "        loss, _ = session.run([entropy_mean, train_step], \n",
    "                              feed_dict = {x: np.reshape(training_batch[0],(500, 784)), \n",
    "                                    labels_soft: driveVector(training_batch[1])})\n",
    "        #print(loss)\n",
    "        training_batch = mnist.get_training_batch(b_size)\n",
    "        loss_arr = np.append(loss_arr, loss)\n",
    "        \n",
    "        acc = session.run(accuracy, feed_dict={x: np.reshape(test_batch[0],(len(test_batch[0]), 784)), \n",
    "                                               labels_soft: driveVectorTest(test_batch[1])})\n",
    "        #print(acc)\n",
    "        acc_arr = np.append(acc_arr, acc)\n",
    "    \n",
    "    #print(session.run(accuracy, feed_dict={x: mnist._test_data, labels_soft: mnist._test_labels}))"
   ]
  }
 ],
 "metadata": {
  "kernelspec": {
   "display_name": "tensorflow",
   "language": "python",
   "name": "tensorflow"
  },
  "language_info": {
   "codemirror_mode": {
    "name": "ipython",
    "version": 3
   },
   "file_extension": ".py",
   "mimetype": "text/x-python",
   "name": "python",
   "nbconvert_exporter": "python",
   "pygments_lexer": "ipython3",
   "version": "3.5.4"
  }
 },
 "nbformat": 4,
 "nbformat_minor": 2
}
