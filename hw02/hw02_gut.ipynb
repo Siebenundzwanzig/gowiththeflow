{
 "cells": [
  {
   "cell_type": "code",
   "execution_count": 1,
   "metadata": {
    "collapsed": true
   },
   "outputs": [],
   "source": [
    "import sys\n",
    "import tensorflow as tf\n",
    "import numpy as np\n",
    "import matplotlib.pyplot as plt\n",
    "import os\n",
    "import struct\n",
    "%matplotlib inline"
   ]
  },
  {
   "cell_type": "code",
   "execution_count": 2,
   "metadata": {
    "collapsed": true
   },
   "outputs": [],
   "source": [
    "class MNIST():\n",
    "    def __init__(self, directory):\n",
    "        self._directory = directory\n",
    "        \n",
    "        self._training_data = self._load_binaries(\"train-images.idx3-ubyte\")\n",
    "        self._training_labels = self._load_binaries(\"train-labels.idx1-ubyte\")\n",
    "        self._test_data = self._load_binaries(\"t10k-images.idx3-ubyte\")\n",
    "        self._test_labels = self._load_binaries(\"t10k-labels.idx1-ubyte\")\n",
    "        \n",
    "        np.random.seed(0)\n",
    "        samples_n = self._training_labels.shape[0]\n",
    "        random_indices = np.random.choice(samples_n, samples_n // 10, replace = False)\n",
    "        np.random.seed()\n",
    "        \n",
    "        self._validation_data = self._training_data[random_indices]\n",
    "        self._validation_labels = self._training_labels[random_indices]\n",
    "        self._training_data = np.delete(self._training_data, random_indices, axis = 0)\n",
    "        self._training_labels = np.delete(self._training_labels, random_indices)\n",
    "    \n",
    "    def _load_binaries(self, file_name):\n",
    "        path = os.path.join(self._directory, file_name)\n",
    "        \n",
    "        with open(path, 'rb') as fd:\n",
    "            check, items_n = struct.unpack(\">ii\", fd.read(8))\n",
    "\n",
    "            if \"images\" in file_name and check == 2051:\n",
    "                height, width = struct.unpack(\">II\", fd.read(8))\n",
    "                images = np.fromfile(fd, dtype = 'uint8')\n",
    "                return np.reshape(images, (items_n, height, width))\n",
    "            elif \"labels\" in file_name and check == 2049:\n",
    "                return np.fromfile(fd, dtype = 'uint8')\n",
    "            else:\n",
    "                raise ValueError(\"Not a MNIST file: \" + path)\n",
    "    \n",
    "    \n",
    "    def get_training_batch(self, batch_size):\n",
    "        return self._get_batch(self._training_data, self._training_labels, batch_size)\n",
    "    \n",
    "    def get_validation_batch(self, batch_size):\n",
    "        return self._get_batch(self._validation_data, self._validation_labels, batch_size)\n",
    "    \n",
    "    def get_test_batch(self, batch_size):\n",
    "        return self._get_batch(self._test_data, self._test_labels, batch_size)\n",
    "    \n",
    "    def _get_batch(self, data, labels, batch_size):\n",
    "        samples_n = labels.shape[0]\n",
    "        if batch_size <= 0:\n",
    "            batch_size = samples_n\n",
    "        \n",
    "        random_indices = np.random.choice(samples_n, samples_n, replace = False)\n",
    "        data = data[random_indices]\n",
    "        labels = labels[random_indices]\n",
    "        for i in range(samples_n // batch_size):\n",
    "            on = i * batch_size\n",
    "            off = on + batch_size\n",
    "            return data[on:off], labels[on:off]\n",
    "    \n",
    "    \n",
    "    def get_sizes(self):\n",
    "        training_samples_n = self._training_labels.shape[0]\n",
    "        validation_samples_n = self._validation_labels.shape[0]\n",
    "        test_samples_n = self._test_labels.shape[0]\n",
    "        return training_samples_n, validation_samples_n, test_samples_n\n",
    "    \n",
    "        \n",
    "    \n"
   ]
  },
  {
   "cell_type": "code",
   "execution_count": 5,
   "metadata": {},
   "outputs": [],
   "source": [
    "mnist = MNIST('/home/philip/Dokumente/Tensorflow/gowiththeflow/hw02')\n",
    "test_batch = mnist.get_test_batch(5)\n",
    "validation_batch = mnist.get_validation_batch(5)\n",
    "training_batch = mnist.get_training_batch(100)\n",
    "\n",
    "\n",
    "def DriveVector(vector):\n",
    "    out = np.zeros([len(vector[1])],10)\n",
    "    for i in vector: \n",
    "        out[i] = \n"
   ]
  },
  {
   "cell_type": "code",
   "execution_count": 67,
   "metadata": {},
   "outputs": [
    {
     "name": "stdout",
     "output_type": "stream",
     "text": [
      "<class 'tensorflow.python.framework.ops.Tensor'>\n",
      "<class 'tensorflow.python.framework.ops.Tensor'>\n"
     ]
    }
   ],
   "source": [
    "x = tf.placeholder(tf.float32, [None, 784])\n",
    "\n",
    "bias = tf.Variable(tf.zeros([10]))\n",
    "\n",
    "weights = tf.Variable(tf.random_normal([784, 10], stddev = 0.000002), dtype = tf.float32)\n",
    "\n",
    "labels_soft = tf.placeholder(tf.float32, [None, 10])\n",
    "\n",
    "softmax = tf.nn.softmax_cross_entropy_with_logits(labels = labels_soft, \n",
    "                                                  logits = tf.matmul(x, weights) + bias)\n",
    "                                                 \n",
    "\n",
    "\n",
    "train_step = tf.train.GradientDescentOptimizer(0.5).minimize(softmax)\n",
    "\n",
    "b_size = 100\n",
    "training_batch = mnist.get_training_batch(b_size)\n",
    "'''    \n",
    "x = np.reshape(training_batch[0],(b_size, 784))\n",
    "labels_soft = np.reshape(training_batch[1])\n",
    "'''    \n",
    "label = np.zeros([b_size, 10])\n",
    "for k in range(b_size):\n",
    "    l = training_batch[1][k]\n",
    "    label[k][l-1] = 1\n",
    " \n",
    "print(type(labels_soft_))\n",
    "print(type(x_))\n",
    "\n",
    "with tf.Session() as session: \n",
    "    session.run(tf.global_variables_initializer())\n",
    "\n",
    "    for _ in range (100):\n",
    "        _weights, _bias = session.run([weights, bias], feed_dict={x: np.reshape(training_batch[0],(b_size, 784)), labels_soft: label})\n",
    "        \n",
    "       "
   ]
  },
  {
   "cell_type": "code",
   "execution_count": 18,
   "metadata": {},
   "outputs": [
    {
     "data": {
      "text/plain": [
       "[[0, 0, 0, 0], [0, 0, 0, 0]]"
      ]
     },
     "execution_count": 18,
     "metadata": {},
     "output_type": "execute_result"
    }
   ],
   "source": [
    "\n"
   ]
  },
  {
   "cell_type": "code",
   "execution_count": null,
   "metadata": {
    "collapsed": true
   },
   "outputs": [],
   "source": []
  }
 ],
 "metadata": {
  "kernelspec": {
   "display_name": "tensorflow",
   "language": "python",
   "name": "tensorflow"
  },
  "language_info": {
   "codemirror_mode": {
    "name": "ipython",
    "version": 3
   },
   "file_extension": ".py",
   "mimetype": "text/x-python",
   "name": "python",
   "nbconvert_exporter": "python",
   "pygments_lexer": "ipython3",
   "version": "3.5.4"
  }
 },
 "nbformat": 4,
 "nbformat_minor": 2
}
